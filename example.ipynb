{
 "cells": [
  {
   "cell_type": "code",
   "execution_count": 1,
   "metadata": {},
   "outputs": [],
   "source": [
    "from mangrove_surface import SurfaceClient"
   ]
  },
  {
   "cell_type": "code",
   "execution_count": 3,
   "metadata": {},
   "outputs": [],
   "source": [
    "mang = SurfaceClient(\n",
    "    url=\"http://ec2-34-245-224-154.eu-west-1.compute.amazonaws.com/api/\", \n",
    "    username=\"admin\",\n",
    "    password=\"i-085a6f100367f4413\"\n",
    ")"
   ]
  },
  {
   "cell_type": "code",
   "execution_count": 4,
   "metadata": {},
   "outputs": [
    {
     "data": {
      "text/plain": [
       "[\n",
       "  {\n",
       "    \"expires_at\": \"2018-04-09 23:59:59 UTC\", \n",
       "    \"service_level\": \"full\", \n",
       "    \"system_information\": null, \n",
       "    \"updated_at\": \"2018-03-09 13:49:08 UTC\"\n",
       "  }\n",
       "]"
      ]
     },
     "execution_count": 4,
     "metadata": {},
     "output_type": "execute_result"
    }
   ],
   "source": [
    "mang.admin.license_information()"
   ]
  },
  {
   "cell_type": "code",
   "execution_count": 22,
   "metadata": {},
   "outputs": [],
   "source": [
    "mang.create_project?"
   ]
  },
  {
   "cell_type": "code",
   "execution_count": 23,
   "metadata": {},
   "outputs": [
    {
     "name": "stderr",
     "output_type": "stream",
     "text": [
      "2018-03-09 15:17:55,546 - MANGROVE-SDK - INFO - Project `pj` created\n"
     ]
    },
    {
     "data": {
      "application/vnd.jupyter.widget-view+json": {
       "model_id": "cbb7bd772a4d41fa9685eab741e7140f",
       "version_major": 2,
       "version_minor": 0
      },
      "text/html": [
       "<p>Failed to display Jupyter Widget of type <code>VBox</code>.</p>\n",
       "<p>\n",
       "  If you're reading this message in the Jupyter Notebook or JupyterLab Notebook, it may mean\n",
       "  that the widgets JavaScript is still loading. If this message persists, it\n",
       "  likely means that the widgets JavaScript library is either not installed or\n",
       "  not enabled. See the <a href=\"https://ipywidgets.readthedocs.io/en/stable/user_install.html\">Jupyter\n",
       "  Widgets Documentation</a> for setup instructions.\n",
       "</p>\n",
       "<p>\n",
       "  If you're reading this message in another frontend (for example, a static\n",
       "  rendering on GitHub or <a href=\"https://nbviewer.jupyter.org/\">NBViewer</a>),\n",
       "  it may mean that your frontend doesn't currently support widgets.\n",
       "</p>\n"
      ],
      "text/plain": [
       "VBox(children=(HTML(value=u'Master_CENTRAL_TRAIN.csv:  (18.8 MB)'), FloatProgress(value=0.0, max=18821489.0)))"
      ]
     },
     "metadata": {},
     "output_type": "display_data"
    },
    {
     "name": "stderr",
     "output_type": "stream",
     "text": [
      "2018-03-09 15:20:53,562 - MANGROVE-SDK - INFO - Dataset created (foo)\n",
      "2018-03-09 15:21:12,571 - MANGROVE-SDK - INFO - Classifier `pj-2018-03-09T15:21:11.869194` created\n",
      "2018-03-09 15:21:12,966 - MANGROVE-SDK - INFO - Classifier Evaluation Report `FeatureSet-2018-03-09T15:17:55.693807` created\n"
     ]
    }
   ],
   "source": [
    "pj = mang.create_project(\n",
    "    \"pj\",\n",
    "    {\n",
    "        \"datasets\": [{\n",
    "            \"name\": \"foo\",\n",
    "            \"filepath\": \"/Users/John/Downloads/Outbound Mail Campaign mono/Master_CENTRAL_TRAIN.csv\",\n",
    "            \"central\": True,\n",
    "            \"keys\": [\"KEY\"],\n",
    "            \"separator\": \"|\"\n",
    "        }],\n",
    "        \"outcome\": \"LABEL\",\n",
    "        \"outcome_modality\": \"1\"\n",
    "    },\n",
    "    description=\"bla\",\n",
    "    description=\"My great predictive project\",\n",
    "    force=True\n",
    ")"
   ]
  },
  {
   "cell_type": "code",
   "execution_count": 24,
   "metadata": {},
   "outputs": [],
   "source": [
    "cl = pj.classifiers()[0]"
   ]
  },
  {
   "cell_type": "code",
   "execution_count": 25,
   "metadata": {},
   "outputs": [
    {
     "data": {
      "text/plain": [
       "u'LABEL'"
      ]
     },
     "execution_count": 25,
     "metadata": {},
     "output_type": "execute_result"
    }
   ],
   "source": [
    "cl.outcome()"
   ]
  },
  {
   "cell_type": "code",
   "execution_count": 26,
   "metadata": {},
   "outputs": [
    {
     "data": {
      "text/plain": [
       "[Evaluation Report of model `pj-2018-03-09T15:21:11.869194` focus on modality `1` over schema `FeatureSet-2018-03-09T15:17:55.693807` (pending)]"
      ]
     },
     "execution_count": 26,
     "metadata": {},
     "output_type": "execute_result"
    }
   ],
   "source": [
    "cl.assessments()"
   ]
  },
  {
   "cell_type": "code",
   "execution_count": 27,
   "metadata": {},
   "outputs": [
    {
     "data": {
      "text/plain": [
       "[{'level': 0.00255534,\n",
       "  'maximum_a_posteriori': True,\n",
       "  'name': u'flag_jewels',\n",
       "  'nb_parts': 2,\n",
       "  'parts': [{u'coverage': 0.828938,\n",
       "    u'frequency': 106681,\n",
       "    u'target_distribution': {u'0': 0.998275, u'1': 0.00172477},\n",
       "    u'value_list': [u'N']},\n",
       "   {u'coverage': 0.171062,\n",
       "    u'frequency': 22015,\n",
       "    u'target_distribution': {u'0': 0.996275, u'1': 0.00372473},\n",
       "    u'value_list': [u'Y', u' * ']}],\n",
       "  'weight': 0.813542},\n",
       " {'level': 0.00570136,\n",
       "  'maximum_a_posteriori': True,\n",
       "  'name': u'average_basket',\n",
       "  'nb_parts': 4,\n",
       "  'parts': [{u'coverage': 0.516784,\n",
       "    u'expression': u']-inf;28.605]',\n",
       "    u'frequency': 66508,\n",
       "    u'infinite_maximum': False,\n",
       "    u'infinite_minimum': True,\n",
       "    u'maximum': 28.605,\n",
       "    u'minimum': None,\n",
       "    u'missing': False,\n",
       "    u'target_distribution': {u'0': 0.997594, u'1': 0.00240573}},\n",
       "   {u'coverage': 0.208305,\n",
       "    u'expression': u']28.605;50.035]',\n",
       "    u'frequency': 26808,\n",
       "    u'infinite_maximum': False,\n",
       "    u'infinite_minimum': False,\n",
       "    u'maximum': 50.035,\n",
       "    u'minimum': 28.605,\n",
       "    u'missing': False,\n",
       "    u'target_distribution': {u'0': 0.999515, u'1': 0.00048493}},\n",
       "   {u'coverage': 0.139546,\n",
       "    u'expression': u']50.035;69.985]',\n",
       "    u'frequency': 17959,\n",
       "    u'infinite_maximum': False,\n",
       "    u'infinite_minimum': False,\n",
       "    u'maximum': 69.985,\n",
       "    u'minimum': 50.035,\n",
       "    u'missing': False,\n",
       "    u'target_distribution': {u'0': 0.9951, u'1': 0.00490005}},\n",
       "   {u'coverage': 0.135366,\n",
       "    u'expression': u']69.985;+inf[',\n",
       "    u'frequency': 17421,\n",
       "    u'infinite_maximum': True,\n",
       "    u'infinite_minimum': False,\n",
       "    u'maximum': None,\n",
       "    u'minimum': 69.985,\n",
       "    u'missing': False,\n",
       "    u'target_distribution': {u'0': 0.999713, u'1': 0.00028701}}],\n",
       "  'weight': 0.823899},\n",
       " {'level': 0.0174322,\n",
       "  'maximum_a_posteriori': True,\n",
       "  'name': u'flag_top',\n",
       "  'nb_parts': 2,\n",
       "  'parts': [{u'coverage': 0.629926,\n",
       "    u'frequency': 81069,\n",
       "    u'target_distribution': {u'0': 0.998865, u'1': 0.00113484},\n",
       "    u'value_list': [u'N']},\n",
       "   {u'coverage': 0.370074,\n",
       "    u'frequency': 47627,\n",
       "    u'target_distribution': {u'0': 0.996347, u'1': 0.00365339},\n",
       "    u'value_list': [u'Y', u' * ']}],\n",
       "  'weight': 0.824211},\n",
       " {'level': 0.00493971,\n",
       "  'maximum_a_posteriori': True,\n",
       "  'name': u'flag_underwear',\n",
       "  'nb_parts': 2,\n",
       "  'parts': [{u'coverage': 0.841953,\n",
       "    u'frequency': 108356,\n",
       "    u'target_distribution': {u'0': 0.998311, u'1': 0.00168888},\n",
       "    u'value_list': [u'N']},\n",
       "   {u'coverage': 0.158047,\n",
       "    u'frequency': 20340,\n",
       "    u'target_distribution': {u'0': 0.995919, u'1': 0.00408063},\n",
       "    u'value_list': [u'Y', u' * ']}],\n",
       "  'weight': 0.761592},\n",
       " {'level': 0.00846363,\n",
       "  'maximum_a_posteriori': True,\n",
       "  'name': u'flag_shoes',\n",
       "  'nb_parts': 2,\n",
       "  'parts': [{u'coverage': 0.689757,\n",
       "    u'frequency': 88769,\n",
       "    u'target_distribution': {u'0': 0.998581, u'1': 0.00141941},\n",
       "    u'value_list': [u'N']},\n",
       "   {u'coverage': 0.310243,\n",
       "    u'frequency': 39927,\n",
       "    u'target_distribution': {u'0': 0.996494, u'1': 0.0035064},\n",
       "    u'value_list': [u'Y', u' * ']}],\n",
       "  'weight': 0.815304},\n",
       " {'level': 0.00801169,\n",
       "  'maximum_a_posteriori': True,\n",
       "  'name': u'customer_profile',\n",
       "  'nb_parts': 2,\n",
       "  'parts': [{u'coverage': 0.538401,\n",
       "    u'frequency': 69290,\n",
       "    u'target_distribution': {u'0': 0.99707, u'1': 0.00292972},\n",
       "    u'value_list': [u'Active customer', u'Inactive customer']},\n",
       "   {u'coverage': 0.461599,\n",
       "    u'frequency': 59406,\n",
       "    u'target_distribution': {u'0': 0.99894, u'1': 0.0010605},\n",
       "    u'value_list': [u'Lost customer',\n",
       "     u'Active prospect',\n",
       "     u'Inactive prospect',\n",
       "     u' * ']}],\n",
       "  'weight': 0.798127},\n",
       " {'level': 0.00878447,\n",
       "  'maximum_a_posteriori': True,\n",
       "  'name': u'age',\n",
       "  'nb_parts': 3,\n",
       "  'parts': [{u'coverage': 0.500264,\n",
       "    u'expression': u']-inf;29.5]',\n",
       "    u'frequency': 64382,\n",
       "    u'infinite_maximum': False,\n",
       "    u'infinite_minimum': True,\n",
       "    u'maximum': 29.5,\n",
       "    u'minimum': None,\n",
       "    u'missing': False,\n",
       "    u'target_distribution': {u'0': 0.998338, u'1': 0.00166196}},\n",
       "   {u'coverage': 0.199649,\n",
       "    u'expression': u']29.5;34.5]',\n",
       "    u'frequency': 25694,\n",
       "    u'infinite_maximum': False,\n",
       "    u'infinite_minimum': False,\n",
       "    u'maximum': 34.5,\n",
       "    u'minimum': 29.5,\n",
       "    u'missing': False,\n",
       "    u'target_distribution': {u'0': 0.995057, u'1': 0.00494279}},\n",
       "   {u'coverage': 0.300087,\n",
       "    u'expression': u']34.5;+inf[',\n",
       "    u'frequency': 38620,\n",
       "    u'infinite_maximum': True,\n",
       "    u'infinite_minimum': False,\n",
       "    u'maximum': None,\n",
       "    u'minimum': 34.5,\n",
       "    u'missing': False,\n",
       "    u'target_distribution': {u'0': 0.999171, u'1': 0.000828586}}],\n",
       "  'weight': 0.774498}]"
      ]
     },
     "execution_count": 27,
     "metadata": {},
     "output_type": "execute_result"
    }
   ],
   "source": [
    "cl.features()"
   ]
  },
  {
   "cell_type": "code",
   "execution_count": null,
   "metadata": {},
   "outputs": [],
   "source": []
  }
 ],
 "metadata": {
  "kernelspec": {
   "display_name": "Python 2",
   "language": "python",
   "name": "python2"
  },
  "language_info": {
   "codemirror_mode": {
    "name": "ipython",
    "version": 2
   },
   "file_extension": ".py",
   "mimetype": "text/x-python",
   "name": "python",
   "nbconvert_exporter": "python",
   "pygments_lexer": "ipython2",
   "version": "2.7.14"
  }
 },
 "nbformat": 4,
 "nbformat_minor": 2
}
